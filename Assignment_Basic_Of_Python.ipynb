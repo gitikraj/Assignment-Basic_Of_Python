{
  "nbformat": 4,
  "nbformat_minor": 0,
  "metadata": {
    "colab": {
      "provenance": [],
      "authorship_tag": "ABX9TyOC59ZoFuIs0GV6M2q6zAvX",
      "include_colab_link": true
    },
    "kernelspec": {
      "name": "python3",
      "display_name": "Python 3"
    },
    "language_info": {
      "name": "python"
    }
  },
  "cells": [
    {
      "cell_type": "markdown",
      "metadata": {
        "id": "view-in-github",
        "colab_type": "text"
      },
      "source": [
        "<a href=\"https://colab.research.google.com/github/gitikraj/Assignment-Basic_Of_Python/blob/main/Assignment_Basic_Of_Python.ipynb\" target=\"_parent\"><img src=\"https://colab.research.google.com/assets/colab-badge.svg\" alt=\"Open In Colab\"/></a>"
      ]
    },
    {
      "cell_type": "markdown",
      "source": [
        "Q1. L is a list defined as L= [11, 12, 13, 14].\n",
        "\n",
        "(i) WAP to add 50 and 60 to L.\n",
        "\n",
        "(ii) WAP to remove 11 and 13from L.\n",
        "\n",
        "(iii) WAP to sort L in ascending order.\n",
        "\n",
        "(iv) WAP to sort L in descending order.\n",
        "\n",
        "(v) WAP to search for 13 in L.\n",
        "\n",
        "(vi) WAP to count the number of elements present in L.\n",
        "\n",
        "(vii) WAP to sum all the elements in L.\n",
        "\n",
        "(viii) WAP to sum all ODD numbers in L.\n",
        "\n",
        "(ix) WAP to sum all EVEN numbers in L.\n",
        "\n",
        "(x) WAP to sum all PRIME numbers in L.\n",
        "\n",
        "(xi) WAP to clear all the elements in L.\n",
        "\n",
        "(xii) WAP to delete L"
      ],
      "metadata": {
        "id": "yPXkaoEkNXGv"
      }
    },
    {
      "cell_type": "code",
      "source": [
        "L = [11, 12, 13, 14, 3]\n",
        "print(\"List before changes:\", L)\n",
        "\n",
        "L.append(50)\n",
        "L.append(60)\n",
        "print(\"List after changes:\", L)\n",
        "\n",
        "L.remove(11)\n",
        "L.remove(13)\n",
        "print(\"List after removing 11 and 13:\", L)\n",
        "\n",
        "L.sort()\n",
        "print(\"List after sorting:\", L)\n",
        "\n",
        "L.sort(reverse=True)\n",
        "print(\"List after reverse sorting:\", L)\n",
        "\n",
        "try:\n",
        "    L.index(13)\n",
        "except ValueError:\n",
        "    print(\"There is no such element existing\")\n",
        "\n",
        "length = len(L)\n",
        "print(\"Length of the list is\", length)\n",
        "\n",
        "Total = sum(L)\n",
        "print(\"The sum of the elements of the list is\", Total)\n",
        "\n",
        "even_total = 0\n",
        "odd_total = 0\n",
        "\n",
        "for i in range(0, length):\n",
        "    is_prime = True\n",
        "\n",
        "    if L[i] < 2:\n",
        "        is_prime = False\n",
        "    else:\n",
        "        for n in range(2, int(L[i] // 2) + 1):\n",
        "            if L[i] % n == 0:\n",
        "                is_prime = False\n",
        "                break\n",
        "\n",
        "    if is_prime:\n",
        "        print(L[i], \"is a prime number\")\n",
        "    else:\n",
        "        print(L[i], \"is not a prime number\")\n",
        "\n",
        "    if L[i] % 2 == 0:\n",
        "        even_total += L[i]\n",
        "    else:\n",
        "        odd_total += L[i]\n",
        "\n",
        "print(\"Total of all the even numbers:\", even_total)\n",
        "print(\"Total of all the odd numbers:\", odd_total)\n",
        "\n",
        "for i in range(length):\n",
        "    L.pop()\n",
        "\n",
        "print(\"L after removal of all elements:\", L)\n",
        "\n",
        "\n",
        "del L\n",
        "print(L)"
      ],
      "metadata": {
        "colab": {
          "base_uri": "https://localhost:8080/",
          "height": 477
        },
        "id": "yE5lUN3vNdB7",
        "outputId": "0ca4d6ac-3459-4062-9c62-1bf206bcc4d9"
      },
      "execution_count": null,
      "outputs": [
        {
          "output_type": "stream",
          "name": "stdout",
          "text": [
            "List before changes: [11, 12, 13, 14, 3]\n",
            "List after changes: [11, 12, 13, 14, 3, 50, 60]\n",
            "List after removing 11 and 13: [12, 14, 3, 50, 60]\n",
            "List after sorting: [3, 12, 14, 50, 60]\n",
            "List after reverse sorting: [60, 50, 14, 12, 3]\n",
            "There is no such element existing\n",
            "Length of the list is 5\n",
            "The sum of the elements of the list is 139\n",
            "60 is not a prime number\n",
            "50 is not a prime number\n",
            "14 is not a prime number\n",
            "12 is not a prime number\n",
            "3 is a prime number\n",
            "Total of all the even numbers: 136\n",
            "Total of all the odd numbers: 3\n",
            "L after removal of all elements: []\n"
          ]
        },
        {
          "output_type": "error",
          "ename": "NameError",
          "evalue": "ignored",
          "traceback": [
            "\u001b[0;31m---------------------------------------------------------------------------\u001b[0m",
            "\u001b[0;31mNameError\u001b[0m                                 Traceback (most recent call last)",
            "\u001b[0;32m<ipython-input-60-50cc1b194f99>\u001b[0m in \u001b[0;36m<cell line: 63>\u001b[0;34m()\u001b[0m\n\u001b[1;32m     61\u001b[0m \u001b[0;34m\u001b[0m\u001b[0m\n\u001b[1;32m     62\u001b[0m \u001b[0;32mdel\u001b[0m \u001b[0mL\u001b[0m\u001b[0;34m\u001b[0m\u001b[0;34m\u001b[0m\u001b[0m\n\u001b[0;32m---> 63\u001b[0;31m \u001b[0mprint\u001b[0m\u001b[0;34m(\u001b[0m\u001b[0mL\u001b[0m\u001b[0;34m)\u001b[0m\u001b[0;34m\u001b[0m\u001b[0;34m\u001b[0m\u001b[0m\n\u001b[0m",
            "\u001b[0;31mNameError\u001b[0m: name 'L' is not defined"
          ]
        }
      ]
    },
    {
      "cell_type": "markdown",
      "source": [
        "Q2. D is a dictionary defined as D= {1:5.6, 2:7.8, 3:6.6, 4:8.7, 5:7.7}.\n",
        "\n",
        "(i) WAP to add new entry in D; key=8 and value is 8.8\n",
        "\n",
        "(ii) WAP to remove key=2.\n",
        "\n",
        "(iii) WAP to check weather 6 key is present in D.\n",
        "\n",
        "(iv) WAP to count the number of elements present in D.\n",
        "\n",
        "(v) WAP to add all the values present D.\n",
        "\n",
        "(vi) WAP to update the value of 3 to 7.1.\n",
        "\n",
        "(vii) WAP to clear the dictionary."
      ],
      "metadata": {
        "id": "zbrmW4MSiCMs"
      }
    },
    {
      "cell_type": "code",
      "source": [
        "D= {1:5.6, 2:7.8, 3:6.6, 4:8.7, 5:7.7}\n",
        "\n",
        "D[8]=8.8\n",
        "print (\"After Adding (8)    --> \", D)\n",
        "\n",
        "del D[2]\n",
        "print (\"After Deleting (2)  --> \", D)\n",
        "\n",
        "try:\n",
        "  print(\"(6)\", D)\n",
        "except:\n",
        "  print(\"This key does not exists\")\n",
        "\n",
        "length=len(D)\n",
        "print(f\"The length of the dictionary is {length}\")\n",
        "\n",
        "total=0\n",
        "for k in D:\n",
        "  total+=D[k]\n",
        "print(f\"Sum of all values {total}\")\n",
        "\n",
        "D[3]=7.1\n",
        "print (\"After Updating (3)    --> \", D)\n",
        "\n",
        "D.clear()\n",
        "print (\"After Clearing Dictionary    --> \", D)"
      ],
      "metadata": {
        "colab": {
          "base_uri": "https://localhost:8080/"
        },
        "id": "zqGsHzeziQ3S",
        "outputId": "44b0256b-d28b-4764-ed56-138a2b4da63c"
      },
      "execution_count": null,
      "outputs": [
        {
          "output_type": "stream",
          "name": "stdout",
          "text": [
            "After Adding (8)    -->  {1: 5.6, 2: 7.8, 3: 6.6, 4: 8.7, 5: 7.7, 8: 8.8}\n",
            "After Deleting (2)  -->  {1: 5.6, 3: 6.6, 4: 8.7, 5: 7.7, 8: 8.8}\n",
            "(6) {1: 5.6, 3: 6.6, 4: 8.7, 5: 7.7, 8: 8.8}\n",
            "The length of the dictionary is 5\n",
            "Sum of all values 37.4\n",
            "After Updating (3)    -->  {1: 5.6, 3: 7.1, 4: 8.7, 5: 7.7, 8: 8.8}\n",
            "After Clearing Dictionary    -->  {}\n"
          ]
        }
      ]
    },
    {
      "cell_type": "markdown",
      "source": [
        "Q3. S1 is a set defined as S1= [10, 20, 30, 40, 50, 60].\n",
        "\n",
        "S2 is a set defined as S2= [40, 50, 60, 70, 80, 90].\n",
        "\n",
        "(i) WAP to add 55 and 66 in Set S1.\n",
        "\n",
        "(ii) WAP to remove 10 and 30 from Set S1.\n",
        "\n",
        "(iii) WAP to check whether 40 is present in S1.\n",
        "\n",
        "(iv) WAP to find the union between S1 and S2.\n",
        "\n",
        "(v) WAP to find the intersection between S1 and S2.\n",
        "\n",
        "(vi) WAP to find the S1 - S2"
      ],
      "metadata": {
        "id": "t8pxiU7RkzaG"
      }
    },
    {
      "cell_type": "code",
      "source": [
        "S1=[10, 20, 30, 40, 50, 60]\n",
        "S2=[40, 50, 60, 70, 80, 90]\n",
        "print(\"Set before changes\",S1)\n",
        "print(\"Set before changes\",S2)\n",
        "\n",
        "S1.append(55)\n",
        "S1.append(66)\n",
        "print(\"Set 1 after addition\",S1)\n",
        "\n",
        "\n",
        "S1.remove(10)\n",
        "S1.remove(30)\n",
        "print(\"Set 1 after removal\",S1)\n",
        "\n",
        "try:\n",
        "  S1.index(40)\n",
        "except:\n",
        "  print(\"There is no such element existing\")\n",
        "\n",
        "S1=set(S1)\n",
        "S2=set(S2)\n",
        "print (\"Union of S1 and S2    --> \", S1.union(S2))\n",
        "print (\"Intersection of S1 and S2 --> \", S1.intersection(S2))\n",
        "print (\"Difference S1 - S2    --> \", S1 - S2)"
      ],
      "metadata": {
        "colab": {
          "base_uri": "https://localhost:8080/"
        },
        "id": "4ujNlnQKk8Gi",
        "outputId": "fa7275d7-eec5-4b77-80d2-614a1ecccd01"
      },
      "execution_count": null,
      "outputs": [
        {
          "output_type": "stream",
          "name": "stdout",
          "text": [
            "Set before changes [10, 20, 30, 40, 50, 60]\n",
            "Set before changes [40, 50, 60, 70, 80, 90]\n",
            "Set 1 after addition [10, 20, 30, 40, 50, 60, 55, 66]\n",
            "Set 1 after removal [20, 40, 50, 60, 55, 66]\n",
            "Union of S1 and S2    -->  {66, 70, 40, 80, 50, 20, 55, 90, 60}\n",
            "Intersection of S1 and S2 -->  {40, 50, 60}\n",
            "Difference S1 - S2    -->  {66, 20, 55}\n"
          ]
        }
      ]
    },
    {
      "cell_type": "markdown",
      "source": [
        "Q4. Write the following program.\n",
        "\n",
        "(i) WAP to print 100 random strings whose length between 6 and 8.\n",
        "\n",
        "(ii) WAP to print all prime numbers between 600 and 800.\n",
        "\n",
        "(iii) WAP to print all numbers between 100 and 1000 that are divisible by 7 and 9"
      ],
      "metadata": {
        "id": "8Hq6x9tbnudU"
      }
    },
    {
      "cell_type": "code",
      "source": [
        "import string as s\n",
        "import random as r\n",
        "\n",
        "\n",
        "for i in range (0,101):\n",
        "  a=r.randint(6,8)\n",
        "  string=r.sample(s.ascii_letters, a)\n",
        "  string=\"\".join(string)\n",
        "  print(string)\n",
        "j=0\n",
        "for i in range(600,800):\n",
        "\n",
        "   is_prime = True\n",
        "   if i < 2:\n",
        "       is_prime = False\n",
        "   else:\n",
        "      for n in range(2, int( i // 2) + 1):\n",
        "        if i % n == 0:\n",
        "                is_prime = False\n",
        "                break\n",
        "\n",
        "   if is_prime:\n",
        "        print(i, \"is a prime number\")\n",
        "   "
      ],
      "metadata": {
        "colab": {
          "base_uri": "https://localhost:8080/"
        },
        "id": "7lWvtYmZnyZV",
        "outputId": "1abd7a7e-ee60-4454-cf9c-44a392becc85"
      },
      "execution_count": null,
      "outputs": [
        {
          "output_type": "stream",
          "name": "stdout",
          "text": [
            "kCeqrfQb\n",
            "HEynscap\n",
            "zAxLsPCa\n",
            "JwZtQz\n",
            "jroNhAKV\n",
            "uoglHR\n",
            "hrLOBgM\n",
            "JHkbLB\n",
            "vYjisn\n",
            "PaSQXE\n",
            "LlJYDBPc\n",
            "hgYSrm\n",
            "nwfNmPo\n",
            "DwmjVJ\n",
            "MIpKUTNj\n",
            "kunTxoM\n",
            "prRwAakh\n",
            "aVfxXQg\n",
            "nCzQNEkw\n",
            "JZEiMN\n",
            "nONAzK\n",
            "engOKE\n",
            "kVfQOGDH\n",
            "nGatgyMS\n",
            "mXeZzR\n",
            "VxPIekqt\n",
            "LWMxaZJ\n",
            "fsvxgCj\n",
            "rMmqfBN\n",
            "vwxorC\n",
            "OADbPl\n",
            "jShcKi\n",
            "NRWTmuhz\n",
            "mZrObGC\n",
            "kseoXP\n",
            "FTZXiqd\n",
            "FdBKniy\n",
            "ihLRXCF\n",
            "YWCPolA\n",
            "eNoZIDC\n",
            "HEwWiAI\n",
            "yMslOnN\n",
            "QoPIrsY\n",
            "GMsIJWiw\n",
            "UTQkAw\n",
            "zjEXiec\n",
            "wepAtYBZ\n",
            "DTsSHg\n",
            "ejrqPvxK\n",
            "dCNGKHig\n",
            "jcgRow\n",
            "bOUuhrPx\n",
            "lTSoxM\n",
            "WvJZpoC\n",
            "hGvXBDTp\n",
            "zNUlEb\n",
            "ktEAQemy\n",
            "jyMzTHwk\n",
            "tofHIlBa\n",
            "AaqtYg\n",
            "lUedxZY\n",
            "azxFHOYm\n",
            "yezmrF\n",
            "fPghnTmQ\n",
            "pmRNeA\n",
            "BoNzhi\n",
            "RBklVM\n",
            "ymIxieJR\n",
            "PExYJG\n",
            "nyDgqU\n",
            "hJKymP\n",
            "otuhLVp\n",
            "EzwebJv\n",
            "wTgBzOUr\n",
            "SaDRTueV\n",
            "GDdmCjo\n",
            "qMohLAD\n",
            "DetrvjR\n",
            "AMhycX\n",
            "yMDdFXw\n",
            "bsNTQr\n",
            "kQsLdElg\n",
            "gjkdPTs\n",
            "diumongQ\n",
            "tfPFJrCb\n",
            "uClULqy\n",
            "XPElTsDN\n",
            "LhtbJzj\n",
            "lVkxDRZ\n",
            "ojwHXKu\n",
            "usIibTSx\n",
            "dLWriYyk\n",
            "yOdmrCkF\n",
            "LcBYOmrC\n",
            "azlSGv\n",
            "OwhkoJQ\n",
            "SshLaOD\n",
            "aSHycx\n",
            "RGQcHoj\n",
            "DZOqxjvH\n",
            "UdLtJNx\n",
            "601 is a prime number\n",
            "607 is a prime number\n",
            "613 is a prime number\n",
            "617 is a prime number\n",
            "619 is a prime number\n",
            "631 is a prime number\n",
            "641 is a prime number\n",
            "643 is a prime number\n",
            "647 is a prime number\n",
            "653 is a prime number\n",
            "659 is a prime number\n",
            "661 is a prime number\n",
            "673 is a prime number\n",
            "677 is a prime number\n",
            "683 is a prime number\n",
            "691 is a prime number\n",
            "701 is a prime number\n",
            "709 is a prime number\n",
            "719 is a prime number\n",
            "727 is a prime number\n",
            "733 is a prime number\n",
            "739 is a prime number\n",
            "743 is a prime number\n",
            "751 is a prime number\n",
            "757 is a prime number\n",
            "761 is a prime number\n",
            "769 is a prime number\n",
            "773 is a prime number\n",
            "787 is a prime number\n",
            "797 is a prime number\n"
          ]
        }
      ]
    },
    {
      "cell_type": "markdown",
      "source": [
        "Q5. WAP to create two lists of 10 random numbers between 10 and 30; Find\n",
        "\n",
        "(i) Common numbers in the two lists\n",
        "\n",
        "(ii) Unique numbers in both the list\n",
        "\n",
        "(iii) Minimum in both the list\n",
        "\n",
        "(iv) Maximum in both the list\n",
        "\n",
        "(v) Sum of both the lists"
      ],
      "metadata": {
        "id": "si_cO5nyvfnN"
      }
    },
    {
      "cell_type": "code",
      "source": [
        "import random as r\n",
        "L=[]\n",
        "M=[]\n",
        "for i in range(1,11):\n",
        "  L.append(r.randint(10,30))\n",
        "  M.append(r.randint(10,30))\n",
        "print(L)\n",
        "print(M)\n",
        "\n",
        "L=set(L)\n",
        "M=set(M)\n",
        "print (\"Intersection of L and M    --> \", L.intersection(M))\n",
        "\n",
        "print(\"Minimum of both L -->\", min(L),\"M-->\", min(M))\n",
        "print(\"Maximum of both L -->\", max(L),\"M-->\", max(M))\n",
        "\n",
        "a=sum(L) + sum(M)\n",
        "print(\"Sum of both\", a)"
      ],
      "metadata": {
        "colab": {
          "base_uri": "https://localhost:8080/"
        },
        "id": "f9Kk683DvpqX",
        "outputId": "3ce84ed9-9a57-48c0-9e25-97bf341ce2b0"
      },
      "execution_count": null,
      "outputs": [
        {
          "output_type": "stream",
          "name": "stdout",
          "text": [
            "[17, 10, 28, 21, 24, 17, 17, 12, 14, 30]\n",
            "[21, 10, 28, 16, 17, 16, 29, 24, 25, 15]\n",
            "Intersection of L and M    -->  {10, 17, 21, 24, 28}\n",
            "Minimum of both L --> 10 M--> 10\n",
            "Maximum of both L --> 30 M--> 29\n",
            "Sum of both 341\n"
          ]
        }
      ]
    },
    {
      "cell_type": "markdown",
      "source": [
        "Q6. WAP to create a list of 100 random numbers between 100 and 900. Count and print the:\n",
        "\n",
        "(i) All odd numbers\n",
        "\n",
        "(ii) All even numbers\n",
        "\n",
        "(iii) All prime numbers"
      ],
      "metadata": {
        "id": "m2zePq1XU2hL"
      }
    },
    {
      "cell_type": "code",
      "source": [
        "import random as r\n",
        "L=[]\n",
        "for i in range(1,101):\n",
        "  L.append(r.randint(100,900))\n",
        "print(L)\n",
        "M=[]\n",
        "N=[]\n",
        "O=[]\n",
        "for i in range(0,100):\n",
        "  if L[i]%2==0:\n",
        "    M.append(L[i])\n",
        "  else:\n",
        "    N.append(L[i])\n",
        "  is_prime=True\n",
        "  if L[i] < 2:\n",
        "       is_prime = False\n",
        "  else:\n",
        "      for n in range(2, int(L[i]} // 2) + 1):\n",
        "        if L[i] % n == 0:\n",
        "                is_prime = False\n",
        "                break\n",
        "\n",
        "  if is_prime:\n",
        "        O.append(L[i])\n",
        "\n",
        "print(\"All odd numbers\", M, \"Length is\", len(M))\n",
        "\n",
        "print(\"All odd numbers\", N, \"Length is\", len(N))\n",
        "print(\"All odd numbers\", O, \"Length is\", len(O))\n",
        "\n"
      ],
      "metadata": {
        "colab": {
          "base_uri": "https://localhost:8080/"
        },
        "id": "icctCVMLVAGk",
        "outputId": "6c951a00-cc3b-481c-9856-5d9609c97711"
      },
      "execution_count": null,
      "outputs": [
        {
          "output_type": "stream",
          "name": "stdout",
          "text": [
            "[321, 567, 887, 817, 632, 361, 167, 561, 156, 812, 854, 662, 715, 612, 706, 610, 297, 505, 149, 121, 491, 839, 153, 778, 243, 523, 514, 125, 230, 712, 326, 718, 786, 825, 422, 873, 447, 756, 501, 485, 515, 616, 799, 847, 794, 298, 663, 111, 658, 831, 329, 513, 275, 142, 112, 143, 845, 584, 356, 452, 524, 778, 305, 597, 756, 597, 437, 274, 620, 577, 854, 447, 790, 489, 209, 614, 508, 483, 515, 408, 355, 435, 348, 432, 790, 530, 440, 806, 325, 309, 364, 273, 602, 877, 623, 114, 505, 650, 758, 397]\n",
            "All odd numbers [632, 156, 812, 854, 662, 612, 706, 610, 778, 514, 230, 712, 326, 718, 786, 422, 756, 616, 794, 298, 658, 142, 112, 584, 356, 452, 524, 778, 756, 274, 620, 854, 790, 614, 508, 408, 348, 432, 790, 530, 440, 806, 364, 602, 114, 650, 758] Length is 47\n",
            "All odd numbers [321, 567, 887, 817, 361, 167, 561, 715, 297, 505, 149, 121, 491, 839, 153, 243, 523, 125, 825, 873, 447, 501, 485, 515, 799, 847, 663, 111, 831, 329, 513, 275, 143, 845, 305, 597, 597, 437, 577, 447, 489, 209, 483, 515, 355, 435, 325, 309, 273, 877, 623, 505, 397] Length is 53\n",
            "All odd numbers [321, 567, 887, 817, 361, 167, 149, 121, 491, 839, 523, 577, 877, 397] Length is 14\n"
          ]
        }
      ]
    },
    {
      "cell_type": "markdown",
      "source": [
        "Q7. D is a dictionary defined as D={1:\"One\",2:\"Two\",3:\"Three\",4:\"Four\", 5:\"Five\"}.\n",
        "\n",
        " WAP to read all the keys and values from dictionary and write to the file in the given below format.\n",
        "\n",
        "Key1, Value1\n",
        "\n",
        "Key2, Value2\n",
        "\n",
        "Key3, Value3"
      ],
      "metadata": {
        "id": "UIsa8__0r0Dd"
      }
    },
    {
      "cell_type": "code",
      "source": [
        "D={1:\"One\",2:\"Two\",3:\"Three\",4:\"Four\", 5:\"Five\"}\n",
        "for  k in D:\n",
        "  print( k, \" , \", D[k])"
      ],
      "metadata": {
        "id": "Olpq_aJ2r59-",
        "colab": {
          "base_uri": "https://localhost:8080/"
        },
        "outputId": "e18df02e-fc83-4dd8-c3ff-44a0a025d976"
      },
      "execution_count": 6,
      "outputs": [
        {
          "output_type": "stream",
          "name": "stdout",
          "text": [
            "1  ,  One\n",
            "2  ,  Two\n",
            "3  ,  Three\n",
            "4  ,  Four\n",
            "5  ,  Five\n"
          ]
        }
      ]
    },
    {
      "cell_type": "markdown",
      "source": [
        "Q8. L is a list defined as L={\"One\",\"Two\",\"Three\",\"Four\",\"Five\"}.\n",
        "\n",
        " WAP to count the length of each element from a list and write to the file in the given below format:\n",
        "\n",
        "One, 3\n",
        "\n",
        "Two, 3\n",
        "\n",
        "Four, 4"
      ],
      "metadata": {
        "id": "AQnMnBN11Iwr"
      }
    },
    {
      "cell_type": "code",
      "source": [
        "L={\"One\",\"Two\",\"Three\",\"Four\",\"Five\"}\n",
        "for k in L:\n",
        "  print( k , \" , \" , len(k))"
      ],
      "metadata": {
        "colab": {
          "base_uri": "https://localhost:8080/"
        },
        "id": "s5CjW9wS1KNm",
        "outputId": "10e4913a-e7d3-4692-933c-50863b1167b7"
      },
      "execution_count": 10,
      "outputs": [
        {
          "output_type": "stream",
          "name": "stdout",
          "text": [
            "Five  ,  4\n",
            "Two  ,  3\n",
            "One  ,  3\n",
            "Four  ,  4\n",
            "Three  ,  5\n"
          ]
        }
      ]
    },
    {
      "cell_type": "markdown",
      "source": [
        "Q9. Write to the file 100 random strings whose length between 10 and 15"
      ],
      "metadata": {
        "id": "blv948OO2__F"
      }
    },
    {
      "cell_type": "code",
      "source": [
        "import random as r\n",
        "import string as s\n",
        "\n",
        "for i in range(1,101):\n",
        "  a=r.randint(10,15)\n",
        "  print(r.sample(s.ascii_letters,a))"
      ],
      "metadata": {
        "colab": {
          "base_uri": "https://localhost:8080/"
        },
        "id": "BcDjKwsA3A1C",
        "outputId": "36c332e8-1d99-44b2-b3f4-20956916430a"
      },
      "execution_count": 12,
      "outputs": [
        {
          "output_type": "stream",
          "name": "stdout",
          "text": [
            "['g', 'X', 'T', 'e', 's', 'w', 'I', 'Y', 'V', 'Z', 'n', 'f', 'L', 'm']\n",
            "['F', 'h', 'y', 'A', 'G', 'T', 'f', 'r', 'm', 'E', 'g', 'C', 'z', 'q', 'R']\n",
            "['E', 'S', 'j', 'h', 'b', 'c', 'L', 'f', 'd', 'a', 'n', 'P', 'r', 'Q']\n",
            "['D', 'i', 'C', 'B', 'f', 'G', 'H', 'P', 'o', 'J', 'd']\n",
            "['B', 'Q', 'R', 'Y', 'r', 'h', 's', 'F', 'e', 'G', 'z', 'x', 'N', 'J', 'v']\n",
            "['w', 'S', 'h', 'F', 'Y', 'D', 'y', 'n', 'R', 'j', 'G', 'z']\n",
            "['i', 'D', 'r', 'c', 't', 'u', 'l', 'Z', 'L', 'w', 'a']\n",
            "['t', 'J', 'W', 'd', 'p', 'r', 'u', 'M', 'Z', 'v', 'n']\n",
            "['u', 'K', 'D', 'J', 'y', 'F', 'w', 'A', 'V', 'H']\n",
            "['M', 'q', 'f', 'H', 'G', 'x', 'u', 'w', 'U', 'r', 'v', 'B', 'i', 'F']\n",
            "['z', 'y', 'V', 'u', 'E', 'h', 's', 'K', 'D', 'J', 'O', 'W']\n",
            "['e', 'P', 'B', 'N', 'X', 'r', 'z', 'i', 's', 'y', 'u', 'K']\n",
            "['W', 'K', 'u', 'R', 'a', 'G', 'B', 'D', 'v', 'y', 'i', 'X']\n",
            "['r', 'R', 'X', 'c', 'd', 't', 'j', 'A', 'a', 'z', 'w', 'G']\n",
            "['H', 'y', 'D', 'x', 'A', 'p', 'k', 't', 'E', 'd', 'm', 'n']\n",
            "['H', 'y', 'Y', 'd', 'G', 'T', 'M', 'o', 'r', 'p', 'S', 'A', 'O', 'f', 'a']\n",
            "['M', 'r', 't', 'f', 'm', 'p', 'h', 'u', 'F', 'k', 'l', 'E', 'N', 'I', 'g']\n",
            "['X', 'E', 'U', 'N', 'F', 'q', 'K', 'z', 'R', 'W', 'J', 'a', 'i']\n",
            "['l', 'k', 'n', 'E', 'i', 'K', 'U', 'x', 'S', 'h']\n",
            "['a', 'n', 'W', 's', 'b', 'B', 'p', 'S', 'Z', 'I', 'w', 'N', 'V']\n",
            "['r', 'g', 'U', 'F', 'L', 'v', 'V', 'i', 'Q', 'I', 'H', 'O']\n",
            "['E', 'm', 'B', 't', 'j', 'n', 'L', 'S', 'r', 'z', 'X', 'W', 'G', 'u', 'H']\n",
            "['I', 'h', 'j', 'F', 'z', 'T', 'v', 'P', 'S', 'L', 'Q', 'W', 'R']\n",
            "['z', 'n', 'Z', 'q', 'd', 'j', 'r', 'g', 'v', 'A', 'i', 'p', 'S']\n",
            "['B', 'e', 'E', 'm', 'a', 'G', 'j', 'z', 'Y', 'I']\n",
            "['h', 'V', 'i', 'U', 'l', 'p', 'D', 'P', 'C', 'S', 'R', 'H', 'x', 'B']\n",
            "['H', 'g', 'k', 'O', 'Q', 'U', 'l', 'z', 'f', 'Z', 'M', 'S', 's']\n",
            "['P', 'r', 'Z', 'B', 'n', 'a', 'm', 'f', 't', 'K', 'g']\n",
            "['S', 'a', 'Q', 'W', 'V', 'u', 'q', 'h', 'M', 'Z', 'N', 'o']\n",
            "['H', 'j', 'Q', 'h', 'g', 'C', 'R', 'Y', 'z', 'S', 'N', 'M', 'W', 'q', 'E']\n",
            "['B', 'f', 'G', 'x', 'X', 'q', 'Z', 't', 'Y', 'J', 'g', 'E']\n",
            "['S', 'H', 'u', 'e', 'd', 'Y', 'n', 'I', 'N', 'U', 'p', 'w', 'R', 'z']\n",
            "['M', 'l', 'R', 'C', 'Y', 'S', 'P', 't', 'T', 'J', 'y', 'Q', 's']\n",
            "['X', 'a', 'F', 'u', 'm', 'L', 'l', 'P', 'y', 'c']\n",
            "['p', 'P', 'O', 'D', 'b', 'V', 'z', 'f', 'C', 'g', 'F', 'J', 'm']\n",
            "['C', 'v', 'S', 'L', 'I', 'U', 'h', 'f', 'N', 'z', 'A', 'E', 'W', 'b', 'R']\n",
            "['W', 'l', 'q', 'k', 'H', 'r', 'K', 'O', 's', 'R', 'S', 'g', 'z', 'v', 'y']\n",
            "['e', 'a', 'd', 'k', 'Y', 'R', 'G', 'X', 'Z', 'w', 'p']\n",
            "['H', 'M', 'G', 'y', 'D', 'q', 'r', 't', 'A', 'F', 'd', 'o', 's', 'v', 'p']\n",
            "['K', 'I', 'r', 'H', 'Y', 'e', 't', 'n', 'Q', 'u', 'P', 'L']\n",
            "['Y', 'f', 'i', 'P', 'l', 'F', 'W', 'z', 'O', 'b', 'e', 'J', 'r', 'a', 'V']\n",
            "['S', 'c', 'W', 'v', 'x', 'b', 'q', 'O', 'V', 'z']\n",
            "['X', 'W', 'y', 'U', 'C', 'p', 'E', 't', 'u', 'n', 'w', 'r', 'K', 'e']\n",
            "['m', 'R', 'A', 'i', 'z', 'n', 'j', 'J', 'K', 'O', 'B', 'w']\n",
            "['F', 'M', 'D', 'Q', 'C', 'y', 's', 't', 'k', 'e', 'R', 'n', 'b']\n",
            "['o', 'U', 'V', 'a', 'q', 'F', 'D', 'C', 'n', 'j', 'l', 'h', 'P']\n",
            "['L', 'H', 'p', 'Q', 'D', 'E', 'Y', 'f', 'v', 'I', 'Z', 'X', 'U']\n",
            "['m', 'k', 'h', 'B', 'a', 'b', 'W', 'u', 'N', 's', 't', 'K', 'i', 'H', 'I']\n",
            "['S', 'l', 'C', 'g', 'J', 'T', 'b', 'I', 'n', 'B', 'h', 'd', 'L', 'A', 'q']\n",
            "['N', 'Q', 'Z', 'a', 'J', 'h', 'R', 's', 'm', 'n', 'k', 'x', 'M', 't']\n",
            "['X', 'G', 'C', 'N', 'Z', 'K', 'l', 't', 'M', 'O', 'Q']\n",
            "['Q', 't', 'z', 'K', 'y', 's', 'n', 'N', 'M', 'L', 'T']\n",
            "['f', 'e', 'o', 'E', 'C', 'Y', 'k', 'u', 'h', 'c', 'i', 'w', 'q', 'M']\n",
            "['Q', 'u', 't', 'N', 'D', 'M', 'L', 'n', 'U', 'w']\n",
            "['s', 'r', 'U', 'm', 'O', 'J', 'h', 'g', 'D', 'Z', 'B']\n",
            "['P', 'e', 't', 'T', 's', 'H', 'L', 'b', 'Z', 'd', 'K', 'l']\n",
            "['F', 'E', 'S', 'e', 'A', 'C', 'O', 'X', 'B', 'o', 'x', 'G']\n",
            "['h', 'k', 'm', 'C', 'Q', 'v', 'R', 'e', 'U', 'l', 'B', 'X', 't', 'j', 'q']\n",
            "['j', 'U', 'h', 'b', 'x', 'g', 'd', 'v', 'n', 'X', 'Z', 'p', 'y', 's', 'F']\n",
            "['D', 'f', 'j', 'I', 'U', 'A', 'e', 'u', 'k', 'Z', 'C', 'v', 'B']\n",
            "['U', 'L', 'P', 'o', 'W', 'O', 'x', 'A', 'I', 'c', 'H', 'K']\n",
            "['v', 'p', 'V', 'h', 'e', 'W', 'z', 'B', 'X', 'b', 'S', 'T', 'w', 'f']\n",
            "['F', 'w', 'p', 'o', 'K', 'A', 'j', 'Y', 'V', 'i']\n",
            "['T', 'h', 'X', 'g', 'y', 'M', 'O', 'Q', 'o', 'B', 'S']\n",
            "['U', 'p', 'c', 'W', 'Y', 'd', 'P', 'm', 'O', 'D', 'o', 'b', 'S']\n",
            "['V', 'n', 'P', 'a', 'L', 'F', 'd', 'u', 'K', 'J']\n",
            "['M', 'Z', 'O', 'Y', 'v', 'm', 'P', 'G', 'N', 'K', 'L']\n",
            "['A', 'o', 'V', 'h', 'E', 'k', 'z', 'n', 'M', 'Y', 'Q', 'P', 'U', 'b', 'R']\n",
            "['G', 'I', 'h', 'F', 'j', 'S', 'U', 'v', 'c', 'W', 'P']\n",
            "['C', 'a', 'B', 'J', 'x', 'k', 't', 'e', 'V', 'g', 'o']\n",
            "['I', 'w', 'n', 'C', 'z', 'p', 'b', 'F', 'q', 'P', 'L', 'x']\n",
            "['n', 'D', 'f', 'M', 'J', 'K', 'q', 'z', 'a', 'E']\n",
            "['J', 'F', 's', 'j', 'f', 'm', 'g', 'w', 'y', 'Z']\n",
            "['Y', 'e', 'W', 'S', 'Q', 'n', 'p', 'c', 'B', 'd', 'x']\n",
            "['y', 'H', 'O', 'r', 'z', 'i', 'T', 'J', 'X', 'W', 'k', 'd', 'h', 'w']\n",
            "['K', 'n', 'd', 'j', 'o', 'h', 'q', 'z', 'w', 'Z', 'x', 'p']\n",
            "['u', 'x', 'i', 'g', 'D', 'h', 'a', 'l', 'L', 'W', 'e', 'B']\n",
            "['m', 'G', 'g', 'E', 'I', 'B', 'Z', 'P', 'A', 'r', 'F', 'M', 'b']\n",
            "['y', 'i', 'C', 'p', 'S', 'P', 's', 'k', 'h', 'v']\n",
            "['B', 's', 'Z', 'b', 'M', 'e', 'E', 'r', 'K', 'X', 'U', 'N']\n",
            "['t', 'k', 'e', 'x', 'u', 'N', 'C', 'W', 'j', 'f']\n",
            "['F', 'G', 'l', 'y', 'd', 'J', 'S', 'Z', 'p', 'B', 'U', 'f', 'n', 's', 'K']\n",
            "['f', 'c', 'S', 'O', 'P', 'J', 'I', 'Y', 'U', 'T', 't', 'C', 'd', 'z', 'p']\n",
            "['G', 'A', 'E', 'C', 'Q', 'P', 'f', 'S', 'U', 'M', 'j']\n",
            "['d', 'C', 'A', 'K', 'N', 'D', 'E', 'X', 'z', 'H', 'O', 'Q', 'F', 't', 'y']\n",
            "['C', 'Z', 'y', 's', 'I', 'v', 'S', 'H', 'p', 'k', 'a', 'i', 'F', 'J', 'b']\n",
            "['r', 'b', 'Z', 'M', 'm', 'k', 'T', 'y', 'v', 'E', 'P', 'X', 'S']\n",
            "['a', 'K', 'H', 'Q', 'y', 'Y', 'I', 'm', 'q', 'B', 'v', 'A', 'V']\n",
            "['K', 'C', 'k', 'Z', 'g', 'I', 'P', 'D', 'x', 'y', 'A']\n",
            "['a', 'F', 'A', 'Z', 'j', 'I', 'v', 'V', 'D', 'n', 'O', 'h', 'm']\n",
            "['j', 'g', 'O', 'J', 'e', 'o', 'N', 's', 'M', 'F']\n",
            "['l', 'A', 'I', 'R', 'r', 'c', 'L', 'X', 'G', 'S', 'p']\n",
            "['K', 't', 'E', 'S', 'I', 'm', 'V', 'C', 'x', 'g', 'G', 's', 'L', 'J']\n",
            "['v', 't', 'I', 'J', 'e', 'G', 'm', 'q', 'Z', 'V', 'n', 'K', 'C']\n",
            "['g', 'W', 'z', 'w', 'X', 's', 'Z', 'x', 'P', 'v', 'I']\n",
            "['h', 's', 'Z', 'Q', 'u', 'k', 'q', 'm', 'T', 'K', 'R']\n",
            "['d', 'E', 'Y', 'D', 'M', 'N', 'f', 'H', 'V', 'U', 'K', 'Q', 'v', 'L', 'W']\n",
            "['r', 'S', 'G', 'h', 'J', 's', 'i', 't', 'I', 'R', 'O', 'q', 'A']\n",
            "['D', 'J', 'N', 'z', 'x', 'w', 'y', 'g', 'H', 'U', 'o', 'K', 'E']\n",
            "['z', 'g', 'u', 'P', 'c', 's', 'k', 'Y', 'A', 'Q', 'q']\n"
          ]
        }
      ]
    },
    {
      "cell_type": "markdown",
      "source": [
        "Q10. Write to the file all prime numbers between 600 and 800."
      ],
      "metadata": {
        "id": "R3y6tA1n4GYe"
      }
    },
    {
      "cell_type": "code",
      "source": [
        "for i in range(600,800):\n",
        "  is_prime=True\n",
        "  if i < 2:\n",
        "       is_prime = False\n",
        "  else:\n",
        "      for n in range(2, int( i // 2) + 1):\n",
        "        if i % n == 0:\n",
        "                is_prime = False\n",
        "                break\n",
        "\n",
        "  if is_prime:\n",
        "    print(i)"
      ],
      "metadata": {
        "colab": {
          "base_uri": "https://localhost:8080/"
        },
        "id": "o4ucUM2-4OVn",
        "outputId": "13bfaa8a-ff56-42e8-a4a0-eb394f1a5e2b"
      },
      "execution_count": 15,
      "outputs": [
        {
          "output_type": "stream",
          "name": "stdout",
          "text": [
            "601\n",
            "607\n",
            "613\n",
            "617\n",
            "619\n",
            "631\n",
            "641\n",
            "643\n",
            "647\n",
            "653\n",
            "659\n",
            "661\n",
            "673\n",
            "677\n",
            "683\n",
            "691\n",
            "701\n",
            "709\n",
            "719\n",
            "727\n",
            "733\n",
            "739\n",
            "743\n",
            "751\n",
            "757\n",
            "761\n",
            "769\n",
            "773\n",
            "787\n",
            "797\n"
          ]
        }
      ]
    },
    {
      "cell_type": "markdown",
      "source": [
        "Q11. WAP to calculate the time taken by a program.\n",
        "\n",
        "---\n",
        "\n"
      ],
      "metadata": {
        "id": "UxChg6eD5NQ4"
      }
    },
    {
      "cell_type": "code",
      "source": [
        "import time\n",
        "\n",
        "start_time = time.time()\n",
        "\n",
        "\n",
        "end_time = time.time()\n",
        "\n",
        "elapsed_time = end_time - start_time\n",
        "\n",
        "\n",
        "print(f\"Elapsed time: {elapsed_time} seconds\")\n"
      ],
      "metadata": {
        "colab": {
          "base_uri": "https://localhost:8080/"
        },
        "id": "Zc06uzHn5jwg",
        "outputId": "15fbc343-9f6b-4c2f-a5b0-a15206647853"
      },
      "execution_count": 19,
      "outputs": [
        {
          "output_type": "stream",
          "name": "stdout",
          "text": [
            "Elapsed time: 4.2438507080078125e-05 seconds\n"
          ]
        }
      ]
    },
    {
      "cell_type": "markdown",
      "source": [
        "Q12. WAP to create a dictionary of student marks in five subjects and you have to find the student \n",
        " having maximum, minimum and average marks."
      ],
      "metadata": {
        "id": "GTXDcKQS6Ip5"
      }
    },
    {
      "cell_type": "code",
      "source": [
        "A={1:95,2:92,3:76,4:89,5:99,6:96}\n",
        "l=0\n",
        "m=100\n",
        "n\n",
        "for i in A:\n",
        "  if A[i]>=l:\n",
        "    l=A[i]\n",
        "  if A[i]<=m:\n",
        "    m=A[i]\n",
        "  n+=A[i]\n",
        "print(l)\n",
        "print(m)\n",
        "print(n)"
      ],
      "metadata": {
        "colab": {
          "base_uri": "https://localhost:8080/"
        },
        "id": "_73BXmbp6iWC",
        "outputId": "516a39e5-385a-4e6c-ef71-a425f55f7d02"
      },
      "execution_count": 31,
      "outputs": [
        {
          "output_type": "stream",
          "name": "stdout",
          "text": [
            "99\n",
            "76\n",
            "564\n"
          ]
        }
      ]
    }
  ]
}